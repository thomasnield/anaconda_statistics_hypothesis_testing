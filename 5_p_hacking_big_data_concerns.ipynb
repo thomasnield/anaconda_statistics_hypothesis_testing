{
 "cells": [
  {
   "cell_type": "markdown",
   "id": "b13bc577",
   "metadata": {},
   "source": [
    "# P-Hacking and Big Data Concerns"
   ]
  },
  {
   "cell_type": "markdown",
   "id": "54990d99",
   "metadata": {},
   "source": [
    "This section is going to cover p-hacking and other big data problems. So far we have learned how to leverage controlled models to analyze statistical significance and whether we can take findings seriously. However, when you introduce human bias and large amounts of data, it becomes easy to \"shop\" for findings that seem significant and credible, but really are just random chance. We will address Texas Sharpshooter Fallacy, bias, and human factors when it comes to scientific research. "
   ]
  },
  {
   "cell_type": "markdown",
   "id": "b9808835",
   "metadata": {},
   "source": [
    "> \"When you torture the data long enough, it will confess to anything.\" - Ronald H. Coase"
   ]
  },
  {
   "cell_type": "markdown",
   "id": "2c22dc36",
   "metadata": {},
   "source": [
    "## Texas Sharpshooter Fallacy"
   ]
  },
  {
   "cell_type": "markdown",
   "id": "ac027ce5",
   "metadata": {},
   "source": [
    "Let's do a very simple experiment. Let's say you walk up to the side of a barn, and you shoot a bullet on the wall with no particular target as simulated below. "
   ]
  },
  {
   "cell_type": "code",
   "execution_count": null,
   "id": "27357922",
   "metadata": {
    "scrolled": true
   },
   "outputs": [],
   "source": [
    "from matplotlib import pyplot as plt\n",
    "import random \n",
    "\n",
    "x, y = [random.randrange(0,5)], [random.randrange(0,5)]\n",
    "plt.xlim(-.5, 5.5)\n",
    "plt.ylim(-.5, 5.5)\n",
    "plt.plot(x, y, marker=\"x\", markersize=10, color='red')\n",
    "plt.show()"
   ]
  },
  {
   "cell_type": "markdown",
   "id": "5261f77d",
   "metadata": {},
   "source": [
    "Now ask yourself this: what is the probability of shooting that specific spot you just fired on? Well... when you consider the entire wall and the infinite number of points to hit on it, you will realize it is incredibly unlikely. To further my point, let's draw a target around that hole we just created. "
   ]
  },
  {
   "cell_type": "code",
   "execution_count": null,
   "id": "9852db46",
   "metadata": {},
   "outputs": [],
   "source": [
    "plt.xlim(-.5, 5.5)\n",
    "plt.ylim(-.5, 5.5)\n",
    "plt.plot(x, y, marker=\"o\", markersize=36, color='red')\n",
    "plt.plot(x, y, marker=\"o\", markersize=26, color='blue')\n",
    "plt.plot(x, y, marker=\"o\", markersize=16, color='yellow')\n",
    "plt.plot(x, y, marker=\"x\", markersize=10, color='red')\n",
    "plt.show()\n"
   ]
  },
  {
   "cell_type": "markdown",
   "id": "69d86499",
   "metadata": {},
   "source": [
    "Now I'm going to do something ridiculous. I'm going to bring my friends over and show my amazing marksmanship. \"Look at the target I just hit!\" I say. \"It is so unlikely I would hit this EXACT spot and yet I did!\" Think for a moment what the problem is here and move on. \n",
    "\n",
    "The problem is while hitting a specific target is extremely unlikely, it is easy to point out a target *after* it occurred. I can shoot blindly at a wall, draw a target around the hole, and point out the unlikely spot I just hit. *I never predicted the target, I observed it after it occurred.* This is what we call the **Texas Sharpshooter Fallacy** and it happens too often in scientific research. \n",
    "\n",
    "Consider another example: the probability of a specific player winning the lottery is extremely unlikely, but somebody *is* going to win the lottery. Let's simply simulate this below assuming there is only one winner in a million contestants. "
   ]
  },
  {
   "cell_type": "code",
   "execution_count": null,
   "id": "c1987e22",
   "metadata": {},
   "outputs": [],
   "source": [
    "import random \n",
    "\n",
    "def play_lottery(number_of_contestants: int): \n",
    "    winner = random.randint(0,number_of_contestants)\n",
    "    prob_of_win = 1 / number_of_contestants\n",
    "    \n",
    "    print(f\"PLAYER {winner} WON THE LOTTERY!\")\n",
    "    print(f\"They had a {round(prob_of_win * 100, 4)}% chance of winning.\")\n",
    "          \n",
    "\n",
    "play_lottery(1_000_000)"
   ]
  },
  {
   "cell_type": "markdown",
   "id": "923b7e75",
   "metadata": {},
   "source": [
    "Are we surprised by the fact there is a winner?  No! It was completely random luck. If we predicted the winner, then that would be impressive and useful. But there's nothing remarkable about a specific person winning when nobody predicted that person would win. And yet, that person had an extremely unlikely chance of winning: 0.0001%. \n",
    "\n",
    "**The probability of an unlikely event is likely! We just do not know which one.**\n",
    "\n",
    "This fallacy is also easy to do with data and analysis. The more data we have, the more targets we can stumble upon that were random coincidences. The targets can have a remarkably low p-value, and yet still be coincidental and passed on as significant. This is what we call p-hacking. "
   ]
  },
  {
   "cell_type": "markdown",
   "id": "06aef2af",
   "metadata": {},
   "source": [
    "## Data Mining and Simpson's Paradox "
   ]
  },
  {
   "cell_type": "markdown",
   "id": "e8c6fe79",
   "metadata": {},
   "source": [
    "Ask yourself this: is more data a good thing? \n",
    "\n",
    "Sure, having more data provides more opportunities to glean information. But when it comes to statistical findings it gets increasingly precarious. We can fall into a trap of finding more and more targets that happen to be hit, but did so by coincidence. We can make arguments that the p-values for these findings are low and significant. However, as said earlier the probability of unlikely events is likely, we just do not know which ones.  They are easy to identify in hindsight. \n",
    "\n",
    "Let's look at a dataset that studies possible variables that contribute to a dog's barking. "
   ]
  },
  {
   "cell_type": "code",
   "execution_count": null,
   "id": "eeafd367",
   "metadata": {},
   "outputs": [],
   "source": [
    "import pandas as pd \n",
    "\n",
    "df = pd.read_csv(\"https://raw.githubusercontent.com/thomasnield/machine-learning-demo-data/797f82f66f2283bcb75d5ff8275c39f45167c2b6/regression/dog_barking.csv\")\n",
    "df"
   ]
  },
  {
   "cell_type": "markdown",
   "id": "7427dcf6",
   "metadata": {},
   "source": [
    "The right column is the number of barks, or the output variable we are interested in. The other variables include age, sex, room temperature, noise level, number of door knocks, and the number of hours the owner was home. Let's build a correlation matrix, which measures the strength of a correlation/relationship between each variable. A correlation value of 0 indicates no correlation, whereas a value closer to -1 or 1 indicates a strong negative or postive correlation respectively. "
   ]
  },
  {
   "cell_type": "code",
   "execution_count": null,
   "id": "bd18b608",
   "metadata": {},
   "outputs": [],
   "source": [
    "df.corr(method='pearson')"
   ]
  },
  {
   "cell_type": "markdown",
   "id": "0806edef",
   "metadata": {},
   "source": [
    "There seems to be a decent positive correlation between `DOOR_KNOCKS` and `NUMBER_OF_BARKS`. This makes sense. Dogs tend to bark when the front door is knocked. But the other variables have very weak correlations. \n",
    "\n",
    "We could end our study here, and we should! But let's say the researcher is desperate to find something \"interesting\" or \"groundbreaking.\" So the researcher now breaks up the data into different age ranges. \n",
    "\n",
    "He looks at dogs below between the ages of 4 through 7. Strangely, the correlation disappears between `DOOR_KNOCKS` and `NUMBER_OF_BARKS` with this group, and is now `-0.054233`. This is what we call **Simpson's Paradox**, where a pattern is reversed after a pattern is segmented."
   ]
  },
  {
   "cell_type": "code",
   "execution_count": null,
   "id": "342c6b2c",
   "metadata": {
    "scrolled": true
   },
   "outputs": [],
   "source": [
    "filtered_df = df[(df[\"AGE\"] <= 7) & (df[\"AGE\"] >= 4)]\n",
    "filtered_df.corr(method='pearson')"
   ]
  },
  {
   "attachments": {},
   "cell_type": "markdown",
   "id": "329da784",
   "metadata": {},
   "source": [
    "Next he looks at dogs between the ages of 8 and 11. Interestingly, it seems that dogs in the 8 to 11 years age group will bark less when noise level is higher, as the correlation between the two variables is `-0.700051`. "
   ]
  },
  {
   "cell_type": "code",
   "execution_count": null,
   "id": "4ea72d8e",
   "metadata": {},
   "outputs": [],
   "source": [
    "filtered_df = df[(df[\"AGE\"] <= 11) & (df[\"AGE\"] >= 8)]\n",
    "filtered_df.corr(method='pearson')"
   ]
  },
  {
   "cell_type": "markdown",
   "id": "6954cf5b",
   "metadata": {},
   "source": [
    "Now the researcher starts throwing around hypotheses. Maybe dogs in the 4 through 7 age range lose interest in barking at door knocks after doing it in their puppy years, but pick it up again when they are no longer burnt out! Maybe dogs in the 8 through 11 age range are more hard of hearing, and ambient noise levels drown out any other stimuli that will cause them to bark. \n",
    "\n",
    "See how we are driving ourselves crazy mining the data for findings, and we keep slicing and manipulating the data trying to find interesting conclusions? Does this practice sound familiar? \n",
    "\n",
    "![charlie](https://i.giphy.com/media/l0IylOPCNkiqOgMyA/giphy.webp \"charlie\")\n",
    "\n",
    "*Courtesy: 20th Century Fox* \n",
    "\n",
    "Surprise!  This data is randomly generated, showing how easy it is to make spurious findings in even random data. This searching for patterns in data is known as data mining, and the correlations we stumbled on occurred completely by chance. For believability, I steered a positive correlation between door knocking and dog barking, but all other fields were completely random. This shows that correlations can be found in even randomly generated data, and therefore correlations can be meaningless. Random correlations can exist in the real world and is another reason why the mantra “correlation does not mean causation” is so important. \n",
    "\n",
    "If you want to see the exact code I used to make this dataset, here is the Pandas/NumPy declaration below. "
   ]
  },
  {
   "cell_type": "code",
   "execution_count": null,
   "id": "2dc1ed07",
   "metadata": {},
   "outputs": [],
   "source": [
    "import numpy as np\n",
    "import pandas as pd\n",
    "\n",
    "pd.set_option('display.max_rows', None)\n",
    "pd.set_option('display.width', None)\n",
    "\n",
    "n = 40\n",
    "np.random.seed(7)\n",
    "door_knocks =  np.random.normal(3, 1, n).astype(int)\n",
    "\n",
    "df =  pd.DataFrame({\"AGE\" : np.random.randint(0,16,n),\n",
    "                    \"SEX\" : np.random.randint(0,2, n),\n",
    "                    \"ROOM_TEMPERATURE\" : np.random.normal(76, 4, n),\n",
    "                    \"NOISE_LEVEL\": np.random.normal(30, 10, n),\n",
    "                    \"DOOR_KNOCKS\" : door_knocks,\n",
    "                    \"HOURS_OWNER_HOME\" : np.random.normal(7, 3, n),\n",
    "                    \"NUMBER_OF_BARKS\" :  door_knocks * np.random.binomial(2,.85, n)\n",
    "                   })\n",
    "\n",
    "df"
   ]
  },
  {
   "attachments": {},
   "cell_type": "markdown",
   "id": "fa5a163b",
   "metadata": {},
   "source": [
    "The problem with the previous examples is we practiced data mining rather than the scientific method.\n",
    "\n",
    "**Data mining:** Gather data then hypothesize\n",
    "\n",
    "**Scientific Method:** Hypothesize then gather data\n",
    "\n",
    "The scientific method demands a structured hypothesis, and data is deliberately gathered to prove and disprove that hypothesis, by using a test group and a control group. Data mining is a free-for-all where we collect lots of data, and we hope to find hidden patterns and (untested) insights that may not be obvious, or even make sense! If data mining is used, it should ideally follow up with new data and testing, but many practitioners fail to do this. \n",
    "\n",
    "> **Is Machine Learning Data Mining?**\n",
    "\n",
    "> Machine learning traverses a massive hypothesis space looking for hypotheses that correlate with the data, so it is in fact data mining. Think of machine learning as an automated data mining tool, evaluating numerous variable relationships in data. When we train an image classifier to recognize cows, it is data-mining to find pixels forming shapes that correlate with the label “cow. While this can be useful, it is not uncommon to find meaningless or wrong correlations between groups of pixels. For example, an image classifier may recognize empty fields as “cows,” because it was trained on fields with cows, but it correlated with the field rather than the cows.\n",
    "The cows coincided with the field and thus resulted in a hypothesis that correlated on the wrong variables. "
   ]
  },
  {
   "attachments": {},
   "cell_type": "markdown",
   "id": "091be2ac",
   "metadata": {},
   "source": [
    "## P-Hacking\n",
    "\n",
    "P-hacking is cherry-picking models and data that produces a desired result rather than a realistic one. More specifically, P-hacking is data mining for a p-value of less than .05. Undisciplined and pressured practices are often the cause. Simply choosing a model because “it looks significant” or “solves my objective,” rather than challenging it, is a subtle and easy way to p-hack. \n",
    "\n",
    "This can lead to an inflation of false positives, where our model becomes too optimistic about an outcome but performs poorly in the wild. P-hacking is allegedly responsible for the replicability crisis1, and is arguably made worse with the availability of data and machine learning. \n",
    "\n",
    "**Examples of P-Hacking:**\n",
    "* Collecting just enough data to get a desired result.\n",
    "* Removing inconvenient data as “outliers” or “noise”\n",
    "* Shopping for variables that give a desired result\n",
    "* Dividing data into sub-groups, and focusing on one group\n",
    "* Shopping model parameters that give the right result \n",
    "* Using random seeds that produce desired outcomes\n",
    "\n",
    "**Motivations for P-Hacking** \n",
    "* Research pressure: “No paper, no funding”\n",
    "* Job pressure: “Our client wants to see a model that predicts 10% savings in transportation costs”\n",
    "* Startup pressure: “Our VC investors want a demonstration, so find a dataset that will produce favorable results.” \n",
    "\n",
    "Is P-hacking malicious and deceptive? Not usually, it is often human nature operating under pressure and career survival.\n",
    "\n",
    "![](https://imgs.xkcd.com/comics/significant.png)\n",
    "\n",
    "*Courtesy: XKCD.com *\n",
    "\n"
   ]
  },
  {
   "cell_type": "markdown",
   "id": "07c64ed9",
   "metadata": {},
   "source": [
    "## Data Bias "
   ]
  },
  {
   "cell_type": "markdown",
   "id": "a4ed3da1",
   "metadata": {},
   "source": [
    "As humans, we are strangely wired to be biased. We tend to look for patterns rather than reason why patterns might mislead us. Data bias is inevitable in statistics and data science work, so you should always be actively looking for it. If I survey college students at my local university and use my findings to represent all universities in the United States, there is obviously going to be bias. I'm favoring that university being represented over other universities, and making generalizations based on a limited sample. \n",
    "\n",
    "There are many types of bias, but one of the most pernicious types in statistics is *self-selection* bias. This occurs when certain types of subjects are more likely to include themselves in the experiment. If you go on a flight and survey the passengers what their favorite airline is, do not be surprised when it is the very airline they are flying! If you are doing phone surveys in the middle of a weekday, do not be surprised when most of your respondents are retirees, stay-at-home parents, and non-working individuals. These all can distort your findings because your intended population you are wanting to sample from is not including themselves in the sample. \n",
    "\n",
    "A variant of self-selection bias is **survivorship bias**, where only the \"surviving\" population is included in the sample and those that \"perished\" are never accounted for, as demonstrated in this XKCD cartoon. \n",
    "\n",
    "![](https://imgs.xkcd.com/comics/survivorship_bias.png)\n",
    "\n",
    "Survivorship bias happens subtly. \"Successful\" companies and individuals often get written about and there are many books that analyze their qualities, but do not account that these qualities might also be common with failed companies and individuals too who failed in obscurity. \n",
    "\n",
    "In summary, be wary of bias and ask where the data came from and what might have steered it intentionally or unintentionally. Doing so will save you enormous headaches and projects that go awry. Bias does not go away with more data. It just creates more opportunities for bias to creep in. "
   ]
  },
  {
   "cell_type": "markdown",
   "id": "ecaec6e3",
   "metadata": {},
   "source": [
    "## Exercise"
   ]
  },
  {
   "cell_type": "markdown",
   "id": "cbe59eec",
   "metadata": {},
   "source": [
    "![svg image](data:image/svg+xml;base64,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)"
   ]
  },
  {
   "cell_type": "markdown",
   "id": "995b310d",
   "metadata": {},
   "source": [
    "A vendor has approached your military aircraft operation. They have a statistical \"AI\" model that uses data collected from aircraft returning from combat and predicts where lightweight armor needs to be. It uses detailed data and statistical techniques identifying where bullet holes and damage are likely to be found. It then recommends armoring those hot spots.\n",
    "\n",
    "What questions do you have for the vendor? Is their method sound? Why or why not? Are there any factors missing? Think carefully about this before moving on to the answer. "
   ]
  },
  {
   "cell_type": "markdown",
   "id": "10c62f62",
   "metadata": {},
   "source": [
    "### SCROLL DOWN FOR ANSWER\n",
    "|<br>\n",
    "|<br>\n",
    "|<br>\n",
    "|<br>\n",
    "|<br>\n",
    "|<br>\n",
    "|<br>\n",
    "|<br>\n",
    "|<br>\n",
    "|<br>\n",
    "|<br>\n",
    "|<br>\n",
    "|<br>\n",
    "|<br>\n",
    "|<br>\n",
    "|<br>\n",
    "|<br>\n",
    "|<br>\n",
    "|<br>\n",
    "|<br>\n",
    "|<br>\n",
    "|<br>\n",
    "|<br>\n",
    "v "
   ]
  },
  {
   "cell_type": "markdown",
   "id": "18133f25",
   "metadata": {},
   "source": [
    "![svg image](data:image/svg+xml;base64,PD94bWwgdmVyc2lvbj0iMS4wIiBlbmNvZGluZz0iVVRGLTgiIHN0YW5kYWxvbmU9Im5vIj8+CjxzdmcKICAgdmVyc2lvbj0iMS4xIgogICBpZD0iTGF5ZXJfMSIKICAgeD0iMHB4IgogICB5PSIwcHgiCiAgIHZpZXdCb3g9IjAgMCAxNTQuMjU0ODUgMTU0LjM1NTM1IgogICB4bWw6c3BhY2U9InByZXNlcnZlIgogICBzb2RpcG9kaTpkb2NuYW1lPSJhaXJjcmFmdC1qZXQtaWNvbi5zdmciCiAgIHdpZHRoPSIxNTQuMjU0ODUiCiAgIGhlaWdodD0iMTU0LjM1NTM1IgogICBpbmtzY2FwZTp2ZXJzaW9uPSIxLjIuMiAoYjBhODQ4NjUsIDIwMjItMTItMDEpIgogICB4bWxuczppbmtzY2FwZT0iaHR0cDovL3d3dy5pbmtzY2FwZS5vcmcvbmFtZXNwYWNlcy9pbmtzY2FwZSIKICAgeG1sbnM6c29kaXBvZGk9Imh0dHA6Ly9zb2RpcG9kaS5zb3VyY2Vmb3JnZS5uZXQvRFREL3NvZGlwb2RpLTAuZHRkIgogICB4bWxucz0iaHR0cDovL3d3dy53My5vcmcvMjAwMC9zdmciCiAgIHhtbG5zOnN2Zz0iaHR0cDovL3d3dy53My5vcmcvMjAwMC9zdmciPjxkZWZzCiAgICAgaWQ9ImRlZnMxODQiIC8+PHNvZGlwb2RpOm5hbWVkdmlldwogICAgIGlkPSJuYW1lZHZpZXcxODIiCiAgICAgcGFnZWNvbG9yPSIjZmZmZmZmIgogICAgIGJvcmRlcmNvbG9yPSIjMDAwMDAwIgogICAgIGJvcmRlcm9wYWNpdHk9IjAuMjUiCiAgICAgaW5rc2NhcGU6c2hvd3BhZ2VzaGFkb3c9IjIiCiAgICAgaW5rc2NhcGU6cGFnZW9wYWNpdHk9IjAuMCIKICAgICBpbmtzY2FwZTpwYWdlY2hlY2tlcmJvYXJkPSIwIgogICAgIGlua3NjYXBlOmRlc2tjb2xvcj0iI2QxZDFkMSIKICAgICBzaG93Z3JpZD0iZmFsc2UiCiAgICAgaW5rc2NhcGU6em9vbT0iMi44MjY3ODA5IgogICAgIGlua3NjYXBlOmN4PSI5Ni4wNDU2NDgiCiAgICAgaW5rc2NhcGU6Y3k9IjQyLjYyNzk5NSIKICAgICBpbmtzY2FwZTp3aW5kb3ctd2lkdGg9IjE0NDAiCiAgICAgaW5rc2NhcGU6d2luZG93LWhlaWdodD0iODQ3IgogICAgIGlua3NjYXBlOndpbmRvdy14PSIwIgogICAgIGlua3NjYXBlOndpbmRvdy15PSIyNSIKICAgICBpbmtzY2FwZTp3aW5kb3ctbWF4aW1pemVkPSIxIgogICAgIGlua3NjYXBlOmN1cnJlbnQtbGF5ZXI9IkxheWVyXzEiIC8+PHN0eWxlCiAgICAgdHlwZT0idGV4dC9jc3MiCiAgICAgaWQ9InN0eWxlMTc1Ij4uc3Qwe2ZpbGwtcnVsZTpldmVub2RkO2NsaXAtcnVsZTpldmVub2RkO308L3N0eWxlPjxnCiAgICAgaWQ9Imc3MjgiCiAgICAgdHJhbnNmb3JtPSJzY2FsZSgyLjM4MDAzNDgpIgogICAgIHN0eWxlPSJzdHJva2Utd2lkdGg6MC40MjAxNjIiPjxnCiAgICAgICBpZD0iZzE3OSIKICAgICAgIHRyYW5zZm9ybT0ic2NhbGUoMC41Mjc3ODUxMykiCiAgICAgICBzdHlsZT0ic3Ryb2tlLXdpZHRoOjAuNzk2MDg1Ij48cGF0aAogICAgICAgICBjbGFzcz0ic3QwIgogICAgICAgICBkPSJNIDEwNi42MSwzMC4wOSBDIDExNC43NiwxOC43NSAxMjIuMDIsNy44NCAxMjIuOCwwIDExMy40NCwxLjMgMTAzLjQyLDkuMTcgOTMsMTYuMSBMIDc0LjIyLDMwLjcyIGMgMy4xNCwwLjAyIDYuMDcsMC42OSA4LjY0LDEuODkgMi4wNiwwLjk3IDMuODgsMi4yNyA1LjM4LDMuODcgMS41MSwxLjYgMi43LDMuNDkgMy40OSw1LjYgMC42LDEuNjEgMC45NiwzLjM0IDEuMDUsNS4xNyB6IG0gLTU5LjgzLC05LjYgMi44OSwyLjg5IC00LjY0LDQuNjQgLTQuNCwtMS4zOCB6IG0gLTUuNjgsLTUuNDEgMi44OSwyLjg5IC03Ljk1LDcuOTUgLTQuNCwtMS4zOCB6IG0gNjEuMDIsNjAuNzUgLTIuODMsLTIuODMgLTQuNjQsNC42NCAxLjMyLDQuMzQgeiBtIDUuNDEsNS42OCAtMi44MywtMi44MyAtNy45NSw3Ljk1IDEuMzIsNC4zNCB6IE0gNjkuMjUsMzQuNTggNjcuNzgsMzUuNzIgNjYuNDYsMzUuNDQgYyAtMC40OCwwLjEyIC0xLDAgLTEuNDEsLTAuMyBsIC00Mi40MywtOS4wNiAtMTEuNCwxMS40IDI4LjM5LDI4LjM5IC0wLjEsMi4xNCAtMi45NywyLjk3IDYuMjIsOS40NiA5LjExLDUuODMgMy4xLC0zLjEgMS43NCwwLjEgMjguNTYsMjguNTYgMTEuNTQsLTExLjU0IC0xMC4wNywtNDUuNTcgMi4zNSwtMi45MSBDIDg5Ljg2LDQ4LjUxIDg5LjY2LDQ1LjUgODguNzEsNDIuOTQgODguMSw0MS4yOSA4Ny4xNywzOS44MSA4NS45OSwzOC41NyA4NC44LDM3LjMxIDgzLjM2LDM2LjI3IDgxLjcyLDM1LjUgNzguMjUsMzMuODcgNzMuOSwzMy40MyA2OS4yNSwzNC41OCBaIE0gMzQuMzIsNzMuMiAzMS4xNiw3Ni4zNiA3Ljc4LDczLjU2IDAsODEuMzQgbCA0MS41NCw0MS41NCA3LjgzLC03LjgzIC0yLjgsLTIzLjQ4IDMuMDgsLTMuMDggLTguODIsLTUuNjQgYyAtMC4yMiwtMC4xNCAtMC4zOSwtMC4zMyAtMC41MSwtMC41NCB6IgogICAgICAgICBpZD0icGF0aDE3NyIKICAgICAgICAgc3R5bGU9InN0cm9rZS13aWR0aDowLjc5NjA4NSIgLz48L2c+PGNpcmNsZQogICAgICAgc3R5bGU9ImZpbGw6I2ZmMDAwMDtmaWxsLXJ1bGU6ZXZlbm9kZDtzdHJva2U6bm9uZTtzdHJva2Utd2lkdGg6My4xNzYwMyIKICAgICAgIGlkPSJwYXRoNTU0IgogICAgICAgY3g9IjI4LjYyNzg3OCIKICAgICAgIGN5PSIyNS43NjY2NzQiCiAgICAgICByPSIxLjIwMzMzOTUiIC8+PGNpcmNsZQogICAgICAgc3R5bGU9ImZpbGw6I2ZmMDAwMDtmaWxsLXJ1bGU6ZXZlbm9kZDtzdHJva2U6bm9uZTtzdHJva2Utd2lkdGg6My4xNzYwMyIKICAgICAgIGlkPSJwYXRoNTU0LTkiCiAgICAgICBjeD0iMjguNjI3ODc4IgogICAgICAgY3k9IjMwLjMwMTI4OSIKICAgICAgIHI9IjEuMjAzMzM5NSIgLz48Y2lyY2xlCiAgICAgICBzdHlsZT0iZmlsbDojZmYwMDAwO2ZpbGwtcnVsZTpldmVub2RkO3N0cm9rZTpub25lO3N0cm9rZS13aWR0aDozLjE3NjAzIgogICAgICAgaWQ9InBhdGg1NTQtMyIKICAgICAgIGN4PSIzMi4xNjgxOTQiCiAgICAgICBjeT0iMjguMTczMzUzIgogICAgICAgcj0iMS4yMDMzMzk1IiAvPjxjaXJjbGUKICAgICAgIHN0eWxlPSJmaWxsOiNmZjAwMDA7ZmlsbC1ydWxlOmV2ZW5vZGQ7c3Ryb2tlOm5vbmU7c3Ryb2tlLXdpZHRoOjMuMTc2MDMiCiAgICAgICBpZD0icGF0aDU1NC04IgogICAgICAgY3g9IjU1LjA2MzgzNSIKICAgICAgIGN5PSIxNS44ODEwNTUiCiAgICAgICByPSIxLjIwMzMzOTUiIC8+PGNpcmNsZQogICAgICAgc3R5bGU9ImZpbGw6I2ZmMDAwMDtmaWxsLXJ1bGU6ZXZlbm9kZDtzdHJva2U6bm9uZTtzdHJva2Utd2lkdGg6My4xNzYwMyIKICAgICAgIGlkPSJwYXRoNTU0LTAiCiAgICAgICBjeD0iNDguNTM5NTA5IgogICAgICAgY3k9IjEzLjQ3NDM3NiIKICAgICAgIHI9IjEuMjAzMzM5NSIgLz48Y2lyY2xlCiAgICAgICBzdHlsZT0iZmlsbDojZmYwMDAwO2ZpbGwtcnVsZTpldmVub2RkO3N0cm9rZTpub25lO3N0cm9rZS13aWR0aDozLjE3NjAzIgogICAgICAgaWQ9InBhdGg1NTQtMiIKICAgICAgIGN4PSI1My44NjA0OTciCiAgICAgICBjeT0iMTIuMjcxMDM2IgogICAgICAgcj0iMS4yMDMzMzk1IiAvPjxjaXJjbGUKICAgICAgIHN0eWxlPSJmaWxsOiNmZjAwMDA7ZmlsbC1ydWxlOmV2ZW5vZGQ7c3Ryb2tlOm5vbmU7c3Ryb2tlLXdpZHRoOjMuMTc2MDMiCiAgICAgICBpZD0icGF0aDU1NC00IgogICAgICAgY3g9IjM0LjE3ODcwNyIKICAgICAgIGN5PSIzMi40MjcxMiIKICAgICAgIHI9IjEuMjAzMzM5NSIgLz48Y2lyY2xlCiAgICAgICBzdHlsZT0iZmlsbDojZmYwMDAwO2ZpbGwtcnVsZTpldmVub2RkO3N0cm9rZTpub25lO3N0cm9rZS13aWR0aDozLjE3NjAzIgogICAgICAgaWQ9InBhdGg1NTQtODMiCiAgICAgICBjeD0iMTQuMTQ1MzkiCiAgICAgICBjeT0iNTEuOTE0Mjk1IgogICAgICAgcj0iMS4yMDMzMzk1IiAvPjxjaXJjbGUKICAgICAgIHN0eWxlPSJmaWxsOiNmZjAwMDA7ZmlsbC1ydWxlOmV2ZW5vZGQ7c3Ryb2tlOm5vbmU7c3Ryb2tlLXdpZHRoOjMuMTc2MDMiCiAgICAgICBpZD0icGF0aDU1NC05MCIKICAgICAgIGN4PSIxMC4wNTI1NjEiCiAgICAgICBjeT0iNDIuOTM4NzkzIgogICAgICAgcj0iMS4yMDMzMzk1IiAvPjxjaXJjbGUKICAgICAgIHN0eWxlPSJmaWxsOiNmZjAwMDA7ZmlsbC1ydWxlOmV2ZW5vZGQ7c3Ryb2tlOm5vbmU7c3Ryb2tlLXdpZHRoOjMuMTc2MDMiCiAgICAgICBpZD0icGF0aDU1NC01IgogICAgICAgY3g9IjIyLjY5MDA2NSIKICAgICAgIGN5PSIyMi4yNTkyNDMiCiAgICAgICByPSIxLjIwMzMzOTUiIC8+PGNpcmNsZQogICAgICAgc3R5bGU9ImZpbGw6I2ZmMDAwMDtmaWxsLXJ1bGU6ZXZlbm9kZDtzdHJva2U6bm9uZTtzdHJva2Utd2lkdGg6My4xNzYwMyIKICAgICAgIGlkPSJwYXRoNTU0LTIyIgogICAgICAgY3g9IjQ0LjM3NDg3NCIKICAgICAgIGN5PSI1My41NjU3ODgiCiAgICAgICByPSIxLjIwMzMzOTUiIC8+PGNpcmNsZQogICAgICAgc3R5bGU9ImZpbGw6I2ZmMDAwMDtmaWxsLXJ1bGU6ZXZlbm9kZDtzdHJva2U6bm9uZTtzdHJva2Utd2lkdGg6My4xNzYwMyIKICAgICAgIGlkPSJwYXRoNTU0LTkwMiIKICAgICAgIGN4PSI0My41MTMyMjYiCiAgICAgICBjeT0iMjYuNDIzODc0IgogICAgICAgcj0iMS4yMDMzMzk1IiAvPjxjaXJjbGUKICAgICAgIHN0eWxlPSJmaWxsOiNmZjAwMDA7ZmlsbC1ydWxlOmV2ZW5vZGQ7c3Ryb2tlOm5vbmU7c3Ryb2tlLXdpZHRoOjMuMTc2MDMiCiAgICAgICBpZD0icGF0aDU1NC0zOSIKICAgICAgIGN4PSI0Mi4wNzcxNDUiCiAgICAgICBjeT0iNDEuNjQ2MzI0IgogICAgICAgcj0iMS4yMDMzMzk1IiAvPjxjaXJjbGUKICAgICAgIHN0eWxlPSJmaWxsOiNmZjAwMDA7ZmlsbC1ydWxlOmV2ZW5vZGQ7c3Ryb2tlOm5vbmU7c3Ryb2tlLXdpZHRoOjMuMTc2MDMiCiAgICAgICBpZD0icGF0aDU1NC05NyIKICAgICAgIGN4PSI2MC44ODk3OTciCiAgICAgICBjeT0iMi44NzIxNjIzIgogICAgICAgcj0iMS4yMDMzMzk1IiAvPjxjaXJjbGUKICAgICAgIHN0eWxlPSJmaWxsOiNmZjAwMDA7ZmlsbC1ydWxlOmV2ZW5vZGQ7c3Ryb2tlOm5vbmU7c3Ryb2tlLXdpZHRoOjMuMTc2MDMiCiAgICAgICBpZD0icGF0aDU1NC0wMyIKICAgICAgIGN4PSI5LjQ3ODEyOTQiCiAgICAgICBjeT0iMTkuOTYxNTE1IgogICAgICAgcj0iMS4yMDMzMzk1IiAvPjwvZz48L3N2Zz4K)"
   ]
  },
  {
   "attachments": {},
   "cell_type": "markdown",
   "id": "955e2d64",
   "metadata": {},
   "source": [
    "This is a modernized version of a real statistics problem back in WWII. (https://apps.dtic.mil/docs/citations/ADA091073) \n",
    "\n",
    "The Center for Naval Analyses conducted a study on mitigating the loss of bombers. After analyzing fleets of bombers returned from missions, they conclude surfaces that statistically show the most damage should be prioritized for more armor. But a Hungarian mathematician named Abraham Wald pointed out a fatal flaw with this heuristic.\n",
    "\n",
    "**The flaw: the data only captured survived aircraft, and therefore the approach was completely wrong.**\n",
    "\n",
    "This is an example of survivership bias, where again we make faulty inferences on the survived population while the deceased population is never accounted for. While many would cynically say the data is incomplete, the data still provides a valuable clue to solve our objective. The question we should be asking: why did the aircraft return safely despite the observed damage? \n",
    "\n",
    "With success, Abraham flipped the theory by armoring the undamaged parts of the aircraft, inferring these were likely the critical areas causing a plane to go down and never returning to base. This not only saved aircraft and lives but was a pivotal moment for the war effort. "
   ]
  }
 ],
 "metadata": {
  "kernelspec": {
   "display_name": "Python 3 (ipykernel)",
   "language": "python",
   "name": "python3"
  },
  "language_info": {
   "codemirror_mode": {
    "name": "ipython",
    "version": 3
   },
   "file_extension": ".py",
   "mimetype": "text/x-python",
   "name": "python",
   "nbconvert_exporter": "python",
   "pygments_lexer": "ipython3",
   "version": "3.9.16"
  }
 },
 "nbformat": 4,
 "nbformat_minor": 5
}

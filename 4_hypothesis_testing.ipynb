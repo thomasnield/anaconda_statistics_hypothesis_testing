{
 "cells": [
  {
   "cell_type": "markdown",
   "id": "d29e7c28",
   "metadata": {},
   "source": [
    "# Hypothesis Testing"
   ]
  },
  {
   "cell_type": "markdown",
   "id": "034ae676",
   "metadata": {},
   "source": [
    "This notebook is going to cover **hypothesis testing**, which measures whether a finding is likely to have occurred by chance rather than because of a hypothesized variable. Think of testing a new drug that is supposed to reduce the duration of a cold. If the average time of recovery with the drug is less than the average time without the drug, it has to be enough of a difference so that it's unlikely to have been due to random chance. It could very well be the drug had no effect. \n",
    "\n",
    "Let's get some intuition first by exploring the most critical building block for this reasoning: the p-value."
   ]
  },
  {
   "cell_type": "markdown",
   "id": "4b500f28",
   "metadata": {},
   "source": [
    "## P-Value Intuition"
   ]
  },
  {
   "cell_type": "markdown",
   "id": "1eabf72f",
   "metadata": {},
   "source": [
    "When somebody says something is statistically significant, what does that mean? It is a phrase thrown around a lot, but few people stop and articulate how statistical significance works on a mathematical level. To understand statistical significance, we can go back to the invention of the p-value in 1925. "
   ]
  },
  {
   "cell_type": "markdown",
   "id": "fbefa4c5",
   "metadata": {},
   "source": [
    "A mathematician named Ronald Fisher was at a party. One of his colleagues Muriel Bristol claimed she could detect when tea was poured before milk simply by tasting it. Intrigued by the claim, Ronald set up an experiment on the spot.\n",
    "\n",
    "He prepared eight cups of tea. Four had milk poured first; the other four had tea poured first. He then asked her to identify the pour order of each. Remarkably, she identified them all correctly, and if she was simply guessing the probability of this happening by chance is 1 in 70, or 0.01428571. This is what we call the **p-value**, the probablity something happened by random luck rather than because of a hypothesized explanation. "
   ]
  },
  {
   "cell_type": "markdown",
   "id": "96208b5e",
   "metadata": {},
   "source": [
    "![svg image](data:image/svg+xml;base64,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)"
   ]
  },
  {
   "cell_type": "markdown",
   "id": "7f6efaa4",
   "metadata": {},
   "source": [
    "When you have a p-value that's very low (conventionally < 0.05), that indicates the event was unlikely to have happened by random chance. Therefore we are inclined to think that Muriel has this special ability to detect when tea was poured before the milk, because if she was just randomly guessing she only had a 1.42% chance of succeeding. \n",
    "\n",
    "This example does not capture every nuance of a p-value, but it does provide the essence of it. Let's see how this concept applies with a sample mean and the normal distribution. "
   ]
  },
  {
   "cell_type": "markdown",
   "id": "a2bfd77e",
   "metadata": {},
   "source": [
    "## Two-Tailed Testing"
   ]
  },
  {
   "cell_type": "markdown",
   "id": "cd2b9665",
   "metadata": {},
   "source": [
    "Let's bring in the lightbulb dataset and calculate its mean, standard deviation, and count. "
   ]
  },
  {
   "cell_type": "code",
   "execution_count": null,
   "id": "a144ec56",
   "metadata": {},
   "outputs": [],
   "source": [
    "import pandas as pd\n",
    "import matplotlib.pyplot as plt\n",
    "from scipy.stats import norm\n",
    "import numpy as np \n",
    "\n",
    "X = pd.read_csv(\"https://raw.githubusercontent.com/thomasnield/machine-learning-demo-data/master/distribution/lightbulb_data.csv\") \\\n",
    "    .squeeze()\n",
    "X\n",
    "\n",
    "mean, std, n = X.mean(), X.std(), X.count()\n",
    "print(\"MEAN: \", mean)\n",
    "print(\"STD: \", std)\n",
    "print(\"n: \", n)"
   ]
  },
  {
   "cell_type": "markdown",
   "id": "19ca0fdf",
   "metadata": {},
   "source": [
    "Based on this data, we can infer that there is a 95% probability the lightbulb will last approximately between 571.3 hours and 773.1 hours as shown below. "
   ]
  },
  {
   "cell_type": "code",
   "execution_count": null,
   "id": "bc8cddcf",
   "metadata": {},
   "outputs": [],
   "source": [
    "from matplotlib.patches import Polygon\n",
    "\n",
    "fig, ax = plt.subplots()\n",
    "x_range = np.arange(mean-std*3, mean+std*3, .01) \n",
    "ax.plot(x_range, norm.pdf(x_range, mean, std)) # bell curve \n",
    "\n",
    "# .95 area \n",
    "a,b = norm.ppf(.025, mean, std), norm.ppf(.975, mean, std)\n",
    "ix = np.linspace(a, b)\n",
    "iy =  norm.pdf(ix, mean, std)\n",
    "verts = [(a, 0), *zip(ix, iy), (b, 0)]\n",
    "poly = Polygon(verts, facecolor='0.9', edgecolor='0.5')\n",
    "ax.add_patch(poly)\n",
    "\n",
    "# add text labels\n",
    "plt.text(mean, .003, '.95', fontsize = 22, ha='center')\n",
    "plt.text(a, norm.pdf(a,mean,std), round(a,2), fontsize = 16, ha='right', color='blue')\n",
    "plt.text(b, norm.pdf(b,mean,std), round(b,2), fontsize = 16, ha='left', color='blue')\n",
    "\n",
    "\n",
    "plt.show()"
   ]
  },
  {
   "cell_type": "markdown",
   "id": "39f57f7f",
   "metadata": {},
   "source": [
    "We can calculate that center range capturing the .95 area by using the inverse cumulative density function (the `ppf()` function in SciPy) as shown below. "
   ]
  },
  {
   "cell_type": "code",
   "execution_count": null,
   "id": "35621cdd",
   "metadata": {},
   "outputs": [],
   "source": [
    "from scipy.stats import norm\n",
    "\n",
    "print(norm.ppf(.025, mean, std), norm.ppf(.975, mean, std))"
   ]
  },
  {
   "cell_type": "markdown",
   "id": "2a7bba9b",
   "metadata": {},
   "source": [
    "Let's say an engineer made a design change and tested 31 light bulbs with this new design tweak. He happily reports that the mean in this new sample is 790. Now consider this... is this a coincidence? Let's look at this new mean compared to our current distribution of lightbulb lifespans. "
   ]
  },
  {
   "cell_type": "code",
   "execution_count": null,
   "id": "e8c460c8",
   "metadata": {},
   "outputs": [],
   "source": [
    "from matplotlib.patches import Polygon\n",
    "\n",
    "new_mean = 790\n",
    "\n",
    "# plot chart\n",
    "fig, ax = plt.subplots()\n",
    "x_range = np.arange(mean-std*3, mean+std*3, .01) \n",
    "ax.plot(x_range, norm.pdf(x_range, mean, std)) # bell curve \n",
    "\n",
    "# .95 area \n",
    "a,b = norm.ppf(.025, mean, std), norm.ppf(.975, mean, std)\n",
    "ix = np.linspace(a, b)\n",
    "iy =  norm.pdf(ix, mean, std)\n",
    "verts = [(a, 0), *zip(ix, iy), (b, 0)]\n",
    "poly = Polygon(verts, facecolor='0.9', edgecolor='0.5')\n",
    "ax.add_patch(poly)\n",
    "\n",
    "# add text labels\n",
    "plt.vlines(x = new_mean, ymin = 0, ymax = .005,\n",
    "           colors = 'red',\n",
    "           label = r\"\\bar{x}_{new}\")\n",
    "\n",
    "plt.text(mean, .003, '.95', fontsize = 22, ha='center')\n",
    "plt.text(new_mean, .005, round(new_mean,2), fontsize = 16, ha='center', va='bottom', color='red')\n",
    "\n",
    "\n",
    "plt.show()"
   ]
  },
  {
   "cell_type": "markdown",
   "id": "c2cb3c86",
   "metadata": {},
   "source": [
    "Hmm... take notice here that if we want to be 95% confident that the engineering change had an effect, logically the mean of the new sample must fall outside that .95 range (due to the central limit theorem). Therefore, we are inclined to believe with 95% confidence that the engineering change did improve the design.\n",
    "\n",
    "Let's formalize these ideas a bit more.  We claim the **null hypothesis ($ H_0 $)** is the status quo: the mean is 672.2 and the engineering change had no effect. But the **alternative hypothesis ($ H_1 $)** is the mean *is not* 672.2 with the new engineering design, and we believe it did have an effect enough to reject the null hypothesis. \n",
    "\n",
    "$$\n",
    "H_0: \\mu = 672.2 \n",
    "$$\n",
    "\n",
    "$$\n",
    "H_1: \\mu \\ne 672.2 \n",
    "$$\n",
    "\n",
    "Because this new mean of 790 does fall outside that 95% confidence range, we call it **statistically significant**, meaning it is unlikely to be coincidental enouugh that we can reject the null hypothesis and promote the alternative hypothesis. \n",
    "\n",
    "But *how unlikely* is it we would have observed 790 with the current lightbulb design? We can roughly say it falls outside the 95% \"coincidence\" range as shown above, but by how much? This is where the **p-value** once again comes in. Let's take a look at area left over in each tail, which is going to be $ .025 $. "
   ]
  },
  {
   "cell_type": "code",
   "execution_count": null,
   "id": "8d047fdb",
   "metadata": {},
   "outputs": [],
   "source": [
    "from matplotlib.patches import Polygon\n",
    "\n",
    "new_mean = 790\n",
    "\n",
    "# plot chart\n",
    "fig, ax = plt.subplots()\n",
    "x_range = np.arange(mean-std*3, mean+std*3, .01) \n",
    "ax.plot(x_range, norm.pdf(x_range, mean, std)) # bell curve \n",
    "\n",
    "def plot_tail(a, b): \n",
    "    # p-value areas\n",
    "    ix = np.linspace(a, b)\n",
    "    iy = norm.pdf(ix, mean, std)\n",
    "    verts = [(a, 0), *zip(ix, iy), (b, 0)]\n",
    "    poly = Polygon(verts, facecolor='0.9', edgecolor='0.5')\n",
    "    ax.add_patch(poly)\n",
    "\n",
    "plot_tail(mean-std*3, norm.ppf(.025, mean, std))\n",
    "plot_tail(norm.ppf(.975, mean, std), mean+std*3)\n",
    "\n",
    "# add text labels\n",
    "plt.vlines(x = new_mean, ymin = norm.pdf(new_mean, mean, std), ymax = .005,\n",
    "           colors = 'red',\n",
    "           label = r\"\\bar{x}_{new}\")\n",
    "\n",
    "plt.text(555, .0001, '.025', fontsize = 12, ha='center')\n",
    "plt.text(775, .0001, '.025', fontsize = 12, ha='left')\n",
    "plt.text(new_mean, .005, round(new_mean,2), fontsize = 16, ha='center', va='bottom', color='red')\n",
    "\n",
    "\n",
    "plt.show()"
   ]
  },
  {
   "cell_type": "markdown",
   "id": "cca54afa",
   "metadata": {},
   "source": [
    "However, this is not our p-value. The p-value has to capture any probability that is of equal or less value on both sides where we observed the new mean.  After all, we are trying to prove significance, and that includes anything that is equally or less likely to happen. Let's visualize just that area on both sides, which in total will be the p-value. "
   ]
  },
  {
   "cell_type": "code",
   "execution_count": null,
   "id": "44625f22",
   "metadata": {},
   "outputs": [],
   "source": [
    "from matplotlib.patches import Polygon\n",
    "\n",
    "new_mean = 790\n",
    "\n",
    "# plot chart\n",
    "fig, ax = plt.subplots()\n",
    "x_range = np.arange(mean-std*3, mean+std*3, .01) \n",
    "ax.plot(x_range, norm.pdf(x_range, mean, std)) # bell curve \n",
    "\n",
    "def plot_tail(a, b): \n",
    "    # p-value areas\n",
    "    ix = np.linspace(a, b)\n",
    "    iy = norm.pdf(ix, mean, std)\n",
    "    verts = [(a, 0), *zip(ix, iy), (b, 0)]\n",
    "    poly = Polygon(verts, facecolor='0.9', edgecolor='0.5')\n",
    "    ax.add_patch(poly)\n",
    "\n",
    "plot_tail(mean-std*3, norm.ppf(1.0 - norm.cdf(new_mean, mean, std), mean, std))\n",
    "plot_tail(new_mean, mean+std*3)\n",
    "\n",
    "# add text labels\n",
    "plt.vlines(x = new_mean, ymin = 0, ymax = .005,\n",
    "           colors = 'red',\n",
    "           label = r\"\\bar{x}_{new}\")\n",
    "\n",
    "one_side_p_value  = 1.0 - norm.cdf(new_mean, mean, std)\n",
    "print(one_side_p_value*2)\n",
    "plt.text(530, .0005, round(one_side_p_value, 3), fontsize = 12, ha='center')\n",
    "plt.text(800, .0005, round(one_side_p_value, 3), fontsize = 12, ha='left')\n",
    "plt.text(new_mean, .005, round(new_mean,2), fontsize = 16, ha='center', va='bottom', color='red')\n",
    "\n",
    "\n",
    "plt.show()"
   ]
  },
  {
   "cell_type": "markdown",
   "id": "9652ce99",
   "metadata": {},
   "source": [
    "So we are left  approximately with a p-value of $ 0.022 $, which is divided to both tails as $ 0.011 $. While trying to identify the ranges of these tails requires some deductive math and a bit of code, calculating the p-value itself can be done in two lines of code. We can simply calculate the area of the right tail using the CDF at the new sample mean (and subtract from 1.0 to get the right area, not the left), and then doubling it to take advantage of the symmetry of the left tail. "
   ]
  },
  {
   "cell_type": "code",
   "execution_count": null,
   "id": "527e03fa",
   "metadata": {},
   "outputs": [],
   "source": [
    "# area of right tail \n",
    "p_value_right_tail = 1.0 -  norm.cdf(new_mean, mean, std)\n",
    "\n",
    "# p-value of both tails (symmetrical)\n",
    "p_value = p_value_right_tail*2 \n",
    "\n",
    "print(p_value) # 0.02212358425605565"
   ]
  },
  {
   "cell_type": "markdown",
   "id": "8ed032e6",
   "metadata": {},
   "source": [
    "So practically speaking, how do we interpet this p-value? We say that the re-enginerred lightbulb life span of 790  is 2.2% likely to have happened by chance (including probability of equally or less likely events). If our threshold is 95% confidence, or a 5% level of significance, $ 0.022 $ is less than $ 0.05 $ so we can reject our null hypothesis, and promote the alternative hypothesis that our re-engineered lightbulb is an improvement. "
   ]
  },
  {
   "cell_type": "markdown",
   "id": "9ccc9502",
   "metadata": {},
   "source": [
    "Alternatively, let's say the new lightbulb only improved the sample mean to 750. Notice below this would not be in the \"statistically significant\" range even though it is higher than the current mean  of 672.2. "
   ]
  },
  {
   "cell_type": "code",
   "execution_count": null,
   "id": "71f0be51",
   "metadata": {},
   "outputs": [],
   "source": [
    "from matplotlib.patches import Polygon\n",
    "\n",
    "new_mean = 750\n",
    "\n",
    "# plot chart\n",
    "fig, ax = plt.subplots()\n",
    "x_range = np.arange(mean-std*3, mean+std*3, .01) \n",
    "ax.plot(x_range, norm.pdf(x_range, mean, std)) # bell curve \n",
    "\n",
    "def plot_tail(a, b): \n",
    "    # p-value areas\n",
    "    ix = np.linspace(a, b)\n",
    "    iy = norm.pdf(ix, mean, std)\n",
    "    verts = [(a, 0), *zip(ix, iy), (b, 0)]\n",
    "    poly = Polygon(verts, facecolor='0.9', edgecolor='0.5')\n",
    "    ax.add_patch(poly)\n",
    "\n",
    "plot_tail(mean-std*3, norm.ppf(.025, mean, std))\n",
    "plot_tail(norm.ppf(.975, mean, std), mean+std*3)\n",
    "\n",
    "# add text labels\n",
    "plt.vlines(x = new_mean, ymin = 0, ymax = .005,\n",
    "           colors = 'red',\n",
    "           label = r\"\\bar{x}_{new}\")\n",
    "\n",
    "plt.text(555, .0001, '.025', fontsize = 12, ha='center')\n",
    "plt.text(775, .0001, '.025', fontsize = 12, ha='left')\n",
    "plt.text(new_mean, .005, round(new_mean,2), fontsize = 16, ha='center', va='bottom', color='red')\n",
    "\n",
    "\n",
    "plt.show()"
   ]
  },
  {
   "cell_type": "markdown",
   "id": "6abc62ec",
   "metadata": {},
   "source": [
    "At a 95% threshold, we cannot attribute this lightbulb to perform significantly better than the current one because there's a good chance it was just by random luck and performs the same as the current lightbulb. How much of a chance? Well again, that is the p-value and we can calculate that. We find it is $ 0.13 $, and that is much higher than $ 0.05 $. Therefore we cannot reject the null hypothesis. "
   ]
  },
  {
   "cell_type": "code",
   "execution_count": null,
   "id": "79a9b7b5",
   "metadata": {},
   "outputs": [],
   "source": [
    "new_mean = 750 \n",
    "\n",
    "# area of right tail \n",
    "p_value_right_tail = 1.0 -  norm.cdf(new_mean, mean, std)\n",
    "\n",
    "# p-value of both tails (symmetrical)\n",
    "p_value = p_value_right_tail*2 \n",
    "\n",
    "print(p_value) # 0.13072525593787487"
   ]
  },
  {
   "cell_type": "markdown",
   "id": "33bdc86f",
   "metadata": {},
   "source": [
    "And just for good measure, here is the p-value area visualized for a new sample mean of 750. "
   ]
  },
  {
   "cell_type": "code",
   "execution_count": null,
   "id": "b73cdcf9",
   "metadata": {},
   "outputs": [],
   "source": [
    "from matplotlib.patches import Polygon\n",
    "\n",
    "new_mean = 750\n",
    "\n",
    "# plot chart\n",
    "fig, ax = plt.subplots()\n",
    "x_range = np.arange(mean-std*3, mean+std*3, .01) \n",
    "ax.plot(x_range, norm.pdf(x_range, mean, std)) # bell curve \n",
    "\n",
    "def plot_tail(a, b): \n",
    "    # p-value areas\n",
    "    ix = np.linspace(a, b)\n",
    "    iy = norm.pdf(ix, mean, std)\n",
    "    verts = [(a, 0), *zip(ix, iy), (b, 0)]\n",
    "    poly = Polygon(verts, facecolor='0.9', edgecolor='0.5')\n",
    "    ax.add_patch(poly)\n",
    "\n",
    "plot_tail(mean-std*3, norm.ppf(1.0 - norm.cdf(new_mean, mean, std), mean, std))\n",
    "plot_tail(new_mean, mean+std*3)\n",
    "\n",
    "# add text labels\n",
    "plt.vlines(x = new_mean, ymin = 0, ymax = .005,\n",
    "           colors = 'red',\n",
    "           label = r\"\\bar{x}_{new}\")\n",
    "\n",
    "one_side_p_value  = 1.0 - norm.cdf(new_mean, mean, std)\n",
    "print(one_side_p_value*2)\n",
    "plt.text(555, .0015, round(one_side_p_value, 3), fontsize = 12, ha='center')\n",
    "plt.text(775, .0015, round(one_side_p_value, 3), fontsize = 12, ha='left')\n",
    "plt.text(new_mean, .005, round(new_mean,2), fontsize = 16, ha='center', va='bottom', color='red')\n",
    "\n",
    "\n",
    "plt.show()"
   ]
  },
  {
   "cell_type": "markdown",
   "id": "a3953a80",
   "metadata": {},
   "source": [
    "## One-Tailed Testing"
   ]
  },
  {
   "cell_type": "markdown",
   "id": "eaf71534",
   "metadata": {},
   "source": [
    "While not often as robust two-tailed testing, there is another way to perform hypothesis testing via **one-tailed testing**. We express null and alternative hypotheses as inequalities. we would be \n",
    "\n",
    "$$\n",
    "H_0: \\mu <= 672.2 \n",
    "$$\n",
    "\n",
    "$$\n",
    "H_1: \\mu > 672.2 \n",
    "$$\n",
    "\n",
    "Let's visualize the p-value for one-tailed testing as shown below."
   ]
  },
  {
   "cell_type": "code",
   "execution_count": null,
   "id": "97017daa",
   "metadata": {
    "scrolled": false
   },
   "outputs": [],
   "source": [
    "from matplotlib.patches import Polygon\n",
    "\n",
    "new_mean = 790\n",
    "\n",
    "# plot chart\n",
    "fig, ax = plt.subplots()\n",
    "x_range = np.arange(mean-std*3, mean+std*3, .01) \n",
    "ax.plot(x_range, norm.pdf(x_range, mean, std)) # bell curve \n",
    "\n",
    "def plot_tail(a, b): \n",
    "    # p-value areas\n",
    "    ix = np.linspace(a, b)\n",
    "    iy = norm.pdf(ix, mean, std)\n",
    "    verts = [(a, 0), *zip(ix, iy), (b, 0)]\n",
    "    poly = Polygon(verts, facecolor='0.9', edgecolor='0.5')\n",
    "    ax.add_patch(poly)\n",
    "\n",
    "plot_tail(new_mean, mean+std*3)\n",
    "\n",
    "# add text labels\n",
    "plt.vlines(x = new_mean, ymin = 0, ymax = .005,\n",
    "           colors = 'red',\n",
    "           label = r\"\\bar{x}_{new}\")\n",
    "\n",
    "one_side_p_value  = 1.0 - norm.cdf(new_mean, mean, std)\n",
    "plt.text(800, .0005, round(one_side_p_value, 3), fontsize = 12, ha='left')\n",
    "plt.text(new_mean, .005, round(new_mean,2), fontsize = 16, ha='center', va='bottom', color='red')\n",
    "\n",
    "\n",
    "plt.show()"
   ]
  },
  {
   "cell_type": "markdown",
   "id": "3df2d0aa",
   "metadata": {},
   "source": [
    "This simplifies the calculation of the p-value, by only including the tail that matches the alternative hypothesis. "
   ]
  },
  {
   "cell_type": "code",
   "execution_count": null,
   "id": "dcd3af87",
   "metadata": {},
   "outputs": [],
   "source": [
    "new_mean = 790 \n",
    "\n",
    "# area of right tail \n",
    "p_value = 1.0 -  norm.cdf(new_mean, mean, std)\n",
    "\n",
    "print(p_value) # 0.011061792128027825"
   ]
  },
  {
   "cell_type": "markdown",
   "id": "2c31726c",
   "metadata": {},
   "source": [
    "How does this affect whether we reject the null hypothesis? Ask yourself this: which one sets a higher threshold? You will notice that even when our objective is to show we may have decreased/increased something (the lifespan of the bulb), reframing our hypothesis to show any impact (greater or lesser) creates a higher significance threshold. If our significance threshold is a p-value of .05 or less, our one-tailed test had a much smaller p-value .011 as opposed to the two-tailed test, which was about double that at p-value .022.\n",
    "\n",
    "For this reason, it is preferable to use the two-tailed test over one-tailed in many situations. It does not bias the test in one direction and it also sets a higher threshold for acceptance of the alternative hypothesis. "
   ]
  },
  {
   "cell_type": "markdown",
   "id": "0dad9915",
   "metadata": {},
   "source": [
    "## Dealing with Smaller Samples"
   ]
  },
  {
   "cell_type": "markdown",
   "id": "8a0e1c99",
   "metadata": {},
   "source": [
    "As discussed in the previous section, if you have a smaller sample (n<31) then swap out the normal distribution with the T-distribution. For example, let's say the new lightbulb design had only a sample size of 5. We can calculate the two-tailed p-value as shown below. "
   ]
  },
  {
   "cell_type": "code",
   "execution_count": null,
   "id": "2d92cf75",
   "metadata": {},
   "outputs": [],
   "source": [
    "from scipy.stats import t\n",
    "\n",
    "new_mean = 790 \n",
    "n = 5\n",
    "\n",
    "# area of right tail \n",
    "p_value_right_tail = 1.0 -  t.cdf(new_mean, df=n-1, loc=mean, scale=std)\n",
    "\n",
    "# p-value of both tails (symmetrical)\n",
    "p_value = p_value_right_tail*2 \n",
    "\n",
    "print(p_value) # 0.08401989317568481"
   ]
  },
  {
   "cell_type": "markdown",
   "id": "10df5c57",
   "metadata": {},
   "source": [
    "Our p-value is much larger: 0.084. Because this does not pass our threshold of $ .05 $ we cannot reject the null hypothesis. "
   ]
  },
  {
   "cell_type": "markdown",
   "id": "9b9d9741",
   "metadata": {},
   "source": [
    "## Exercise"
   ]
  },
  {
   "cell_type": "markdown",
   "id": "66f75296",
   "metadata": {},
   "source": [
    "An online gaming platform is trying to increase the playtime of its users with a new reward system. Typically, the average gamer will play for 95 minutes with a standard deviation of 20 minutes. After testing the new reward system with 100 randomly sampled gamers, they found the average play time increased to 125 miutes. Complete the code below using the two-tailed test to determine the p-value, and determine whether this is statistically significant with 95% confidence. "
   ]
  },
  {
   "cell_type": "code",
   "execution_count": null,
   "id": "21bb9814",
   "metadata": {},
   "outputs": [],
   "source": [
    "from scipy.stats import norm \n",
    "\n",
    "mean = 95\n",
    "std = 20\n",
    "new_mean = 125\n",
    "\n",
    "# area of right tail \n",
    "p_value_right_tail = 1.0 -  ?\n",
    "\n",
    "# p-value of both tails (symmetrical)\n",
    "p_value = ?\n",
    "\n",
    "print(p_value) "
   ]
  },
  {
   "cell_type": "markdown",
   "id": "2f748028",
   "metadata": {},
   "source": [
    "### SCROLL DOWN FOR ANSWER\n",
    "|<br>\n",
    "|<br>\n",
    "|<br>\n",
    "|<br>\n",
    "|<br>\n",
    "|<br>\n",
    "|<br>\n",
    "|<br>\n",
    "|<br>\n",
    "|<br>\n",
    "|<br>\n",
    "|<br>\n",
    "|<br>\n",
    "|<br>\n",
    "|<br>\n",
    "|<br>\n",
    "|<br>\n",
    "|<br>\n",
    "|<br>\n",
    "|<br>\n",
    "|<br>\n",
    "|<br>\n",
    "|<br>\n",
    "v "
   ]
  },
  {
   "cell_type": "markdown",
   "id": "9b7cd268",
   "metadata": {},
   "source": [
    "The p-value is 0.1336, and since this is greater than 0.05 this fails to reject the null hypothesis. This means we cannot say the new reward system made any impact to the gamers' playtimes. "
   ]
  },
  {
   "cell_type": "code",
   "execution_count": null,
   "id": "bd5c3506",
   "metadata": {},
   "outputs": [],
   "source": [
    "from scipy.stats import norm \n",
    "\n",
    "mean = 95\n",
    "std = 20\n",
    "new_mean = 125\n",
    "\n",
    "# area of right tail \n",
    "p_value_right_tail = 1.0 -  norm.cdf(new_mean, mean, std)\n",
    "\n",
    "# p-value of both tails (symmetrical)\n",
    "p_value = p_value_right_tail*2 \n",
    "\n",
    "print(p_value) # 0.13361440253771617"
   ]
  }
 ],
 "metadata": {
  "kernelspec": {
   "display_name": "Python 3 (ipykernel)",
   "language": "python",
   "name": "python3"
  },
  "language_info": {
   "codemirror_mode": {
    "name": "ipython",
    "version": 3
   },
   "file_extension": ".py",
   "mimetype": "text/x-python",
   "name": "python",
   "nbconvert_exporter": "python",
   "pygments_lexer": "ipython3",
   "version": "3.9.16"
  }
 },
 "nbformat": 4,
 "nbformat_minor": 5
}
